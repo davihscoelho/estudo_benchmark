{
 "cells": [
  {
   "cell_type": "code",
   "execution_count": 2,
   "metadata": {},
   "outputs": [],
   "source": [
    "import sys\n",
    "sys.path.append('../')"
   ]
  },
  {
   "cell_type": "code",
   "execution_count": null,
   "metadata": {},
   "outputs": [],
   "source": []
  },
  {
   "cell_type": "code",
   "execution_count": 3,
   "metadata": {},
   "outputs": [],
   "source": [
    "import pandas as pd\n",
    "import numpy as np\n",
    "import matplotlib.pyplot as plt\n",
    "from functools import reduce\n",
    "import numpy as np"
   ]
  },
  {
   "cell_type": "code",
   "execution_count": 4,
   "metadata": {},
   "outputs": [],
   "source": [
    "plt.style.use(\"ggplot\")"
   ]
  },
  {
   "cell_type": "code",
   "execution_count": 11,
   "metadata": {},
   "outputs": [],
   "source": [
    "path2 = \"../data/processed/04_daily_returns_indices.csv\"\n",
    "path_p1 = \"../data/processed/05_daily_returns_port1.csv\"\n",
    "path_p2 = \"../data/processed/06_daily_returns_port4.csv\"\n",
    "path_p3 = \"../data/processed/07_daily_returns_port8.csv\""
   ]
  },
  {
   "cell_type": "code",
   "execution_count": 12,
   "metadata": {},
   "outputs": [],
   "source": [
    "path_i1 = \"../data/processed/03_daily_returns_imab5.csv\"\n",
    "path_i2 = \"../data/processed/01_daily_returns_imab.csv\"\n",
    "path_i3 = \"../data/processed/02_daily_returns_ihfa.csv\""
   ]
  },
  {
   "cell_type": "code",
   "execution_count": 16,
   "metadata": {},
   "outputs": [],
   "source": [
    "df = pd.read_csv(path_i1)\n",
    "df2 = pd.read_csv(path_i2)\n",
    "df3 = pd.read_csv(path_i3)"
   ]
  },
  {
   "cell_type": "code",
   "execution_count": 35,
   "metadata": {},
   "outputs": [],
   "source": [
    "lista_dfs = [df,df2,df3]\n",
    "colunas = [\"data\",\"imab5\",\"imab\",\"ihfa\"]\n",
    "final_df = reduce(lambda left,right: pd.merge(left,right,on=\"data\",how='inner'),lista_dfs).round(4).dropna()\n",
    "final_df = final_df[final_df[\"data\"]>=\"2010-01-01\"]\n",
    "final_df.columns = colunas"
   ]
  },
  {
   "cell_type": "code",
   "execution_count": 80,
   "metadata": {},
   "outputs": [],
   "source": [
    "final_df[\"mes\"] = pd.to_datetime(final_df[\"data\"]).dt.strftime(\"%Y-%m\")\n",
    "final_df[\"ano\"] = pd.to_datetime(final_df[\"data\"]).dt.strftime(\"%Y\")"
   ]
  },
  {
   "cell_type": "code",
   "execution_count": 83,
   "metadata": {},
   "outputs": [
    {
     "name": "stderr",
     "output_type": "stream",
     "text": [
      "C:\\Users\\davi_\\AppData\\Local\\Temp\\ipykernel_7464\\3836589356.py:1: FutureWarning: The default value of numeric_only in DataFrameGroupBy.sum is deprecated. In a future version, numeric_only will default to False. Either specify numeric_only or select only columns which should be valid for the function.\n",
      "  ano_group = (final_df.groupby(\"ano\").sum().apply(np.exp)-1)\n",
      "C:\\Users\\davi_\\AppData\\Local\\Temp\\ipykernel_7464\\3836589356.py:2: FutureWarning: The default value of numeric_only in DataFrameGroupBy.sum is deprecated. In a future version, numeric_only will default to False. Either specify numeric_only or select only columns which should be valid for the function.\n",
      "  mes_group = (final_df.groupby(\"mes\").sum().apply(np.exp)-1).iloc[-12:]\n"
     ]
    }
   ],
   "source": [
    "ano_group = (final_df.groupby(\"ano\").sum().apply(np.exp)-1)\n",
    "mes_group = (final_df.groupby(\"mes\").sum().apply(np.exp)-1).iloc[-12:]"
   ]
  },
  {
   "cell_type": "code",
   "execution_count": 88,
   "metadata": {},
   "outputs": [],
   "source": [
    "def calcular_indice(df):\n",
    "  fator = 0.30\n",
    "  indice = df.iloc[:,1]*fator + (1-fator)*df.iloc[:,2]\n",
    "  \n",
    "  df[\"indice\"] = indice\n",
    "  \n",
    "  return df"
   ]
  },
  {
   "cell_type": "code",
   "execution_count": 92,
   "metadata": {},
   "outputs": [],
   "source": [
    "path_load = \"../data/final/\""
   ]
  },
  {
   "cell_type": "code",
   "execution_count": 93,
   "metadata": {},
   "outputs": [],
   "source": [
    "writer = pd.ExcelWriter(path_load+\"backtesting_returns.xlsx\")"
   ]
  },
  {
   "cell_type": "code",
   "execution_count": 94,
   "metadata": {},
   "outputs": [],
   "source": [
    "mes_group = calcular_indice(mes_group)\n",
    "ano_group = calcular_indice(ano_group)"
   ]
  },
  {
   "cell_type": "code",
   "execution_count": 95,
   "metadata": {},
   "outputs": [
    {
     "name": "stderr",
     "output_type": "stream",
     "text": [
      "C:\\Users\\davi_\\AppData\\Local\\Temp\\ipykernel_7464\\1752223903.py:3: FutureWarning: save is not part of the public API, usage can give unexpected results and will be removed in a future version\n",
      "  writer.save()\n"
     ]
    }
   ],
   "source": [
    "mes_group.to_excel(writer,sheet_name=\"Sheet1\")\n",
    "ano_group.to_excel(writer,sheet_name=\"Sheet2\")\n",
    "writer.save()"
   ]
  },
  {
   "cell_type": "code",
   "execution_count": null,
   "metadata": {},
   "outputs": [],
   "source": []
  }
 ],
 "metadata": {
  "kernelspec": {
   "display_name": "env",
   "language": "python",
   "name": "python3"
  },
  "language_info": {
   "codemirror_mode": {
    "name": "ipython",
    "version": 3
   },
   "file_extension": ".py",
   "mimetype": "text/x-python",
   "name": "python",
   "nbconvert_exporter": "python",
   "pygments_lexer": "ipython3",
   "version": "3.10.9"
  },
  "orig_nbformat": 4
 },
 "nbformat": 4,
 "nbformat_minor": 2
}
