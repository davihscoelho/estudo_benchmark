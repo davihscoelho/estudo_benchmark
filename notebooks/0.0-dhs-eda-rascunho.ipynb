{
 "cells": [
  {
   "attachments": {},
   "cell_type": "markdown",
   "metadata": {},
   "source": [
    "## Import libraries"
   ]
  },
  {
   "cell_type": "code",
   "execution_count": null,
   "metadata": {},
   "outputs": [],
   "source": [
    "# import sys\n",
    "# sys.path.append('../')"
   ]
  },
  {
   "cell_type": "code",
   "execution_count": null,
   "metadata": {},
   "outputs": [],
   "source": [
    "# from src.data.get_data import get_data\n",
    "# from src.data.get_bacen import consulta_bc\n",
    "# import pandas as pd\n",
    "# import numpy as np\n",
    "# import matplotlib.pyplot as plt\n",
    "# import matplotlib.animation as animation\n",
    "# import datetime as dt\n",
    "# import warnings\n",
    "# warnings.simplefilter(\"ignore\")\n"
   ]
  },
  {
   "attachments": {},
   "cell_type": "markdown",
   "metadata": {},
   "source": [
    "## GET DATA"
   ]
  },
  {
   "cell_type": "code",
   "execution_count": null,
   "metadata": {},
   "outputs": [],
   "source": [
    "# path = r\"../data/raw/ANBIMA/IMAB-HISTORICO.xls\"\n",
    "# path2 = r\"../data/raw/ANBIMA/IHFA-HISTORICO.xls\"\n",
    "# path3 = r\"../data/raw/economatica.xlsx\" #Indices preços portfolios\n",
    "\n",
    "# pasta = r\"../reports/figures/\""
   ]
  },
  {
   "cell_type": "code",
   "execution_count": null,
   "metadata": {},
   "outputs": [],
   "source": [
    "# df = get_data(path)\n",
    "# df2 = get_data(path2)\n",
    "# df3 = get_data(path3)\n",
    "# df3 = df3.iloc[:,0:8].replace(\"-\",np.nan).dropna()"
   ]
  },
  {
   "attachments": {},
   "cell_type": "markdown",
   "metadata": {},
   "source": [
    "### Get the Rolling Window Returns 12M"
   ]
  },
  {
   "cell_type": "code",
   "execution_count": null,
   "metadata": {},
   "outputs": [],
   "source": [
    "# dataset_janelas_rolantes_12M = get_janelas_rolantes(df)[0] # IMAB\n",
    "# dataset_janelas_rolantes_12M2 = get_janelas_rolantes_12M(df2) #IHFA"
   ]
  },
  {
   "cell_type": "code",
   "execution_count": null,
   "metadata": {},
   "outputs": [],
   "source": [
    "# #Returno Anual em janelas rolantes do DI\n",
    "# df_cdi[\"Variação_12_Meses_(%)\"] = df_cdi[\"valor\"].rolling(window=252).sum()"
   ]
  },
  {
   "cell_type": "code",
   "execution_count": null,
   "metadata": {},
   "outputs": [],
   "source": [
    "# dataset_returns31[\"Variação_12_Meses_(%)\"] = dataset_returns31[\"Variação Diária (%)\"].rolling(window=252).sum() #Portfolio 1\n",
    "# dataset_returns34[\"Variação_12_Meses_(%)\"] = dataset_returns34[\"Variação Diária (%)\"].rolling(window=252).sum() #Portfolio 4\n",
    "# dataset_returns38[\"Variação_12_Meses_(%)\"] = dataset_returns34[\"Variação Diária (%)\"].rolling(window=252).sum() #Portfolio 8\n"
   ]
  },
  {
   "cell_type": "code",
   "execution_count": null,
   "metadata": {},
   "outputs": [],
   "source": [
    "# #Creating dataset for IMAB\n",
    "# dataset_returns = get_returns(df)\n",
    "# dataset_duration = get_duration(df)\n",
    "# dataset_janelas_rolantes_12M = get_janelas_rolantes(df)[0]\n",
    "# dataset_janelas_rolantes_24M = get_janelas_rolantes(df)[1]\n"
   ]
  },
  {
   "cell_type": "code",
   "execution_count": null,
   "metadata": {},
   "outputs": [],
   "source": [
    "# #Creating dataset for IHFA\n",
    "# dataset_returns2 = get_returns(df2)\n",
    "# dataset_janelas_rolantes_12M2 = get_janelas_rolantes_12M(df2)\n"
   ]
  },
  {
   "attachments": {},
   "cell_type": "markdown",
   "metadata": {},
   "source": [
    "#### RETORNO MEDIO DOS BENCHMARKS ROLLING WINDOW 12M"
   ]
  },
  {
   "cell_type": "code",
   "execution_count": null,
   "metadata": {},
   "outputs": [],
   "source": [
    "# #Rename Columns Names\n",
    "# dataset_janelas_rolantes_12M.columns= [\"data\",\"Variação_12_Meses_(%)\"]\n",
    "# dataset_janelas_rolantes_12M2.columns= [\"data\",\"Variação_12_Meses_(%)\"]"
   ]
  },
  {
   "cell_type": "code",
   "execution_count": null,
   "metadata": {},
   "outputs": [],
   "source": [
    "# #Merge datasets \n",
    "# merge_12M_window = (dataset_janelas_rolantes_12M.merge(dataset_janelas_rolantes_12M2,how=\"inner\",on=\"data\",suffixes=[\"_IMAB\",\"_IHFA\"])\n",
    "#                     .merge(df_cdi,how=\"inner\",on=\"data\")\n",
    "#                     ).dropna()"
   ]
  },
  {
   "cell_type": "code",
   "execution_count": null,
   "metadata": {},
   "outputs": [],
   "source": [
    "# medias = (merge_12M_window.describe().iloc[1,[0,1,3]].values).round(2)"
   ]
  },
  {
   "cell_type": "code",
   "execution_count": null,
   "metadata": {},
   "outputs": [],
   "source": [
    "# plt.style.use(\"ggplot\")\n",
    "# fig,ax = plt.subplots()\n",
    "\n",
    "# yaxis = medias\n",
    "# xaxis = (\"IMAB\",\"IHFA\",\"CDI\")\n",
    "# y_pos = np.arange(len(yaxis))\n",
    "\n",
    "# ax.bar(y_pos,yaxis)\n",
    "\n",
    "# ax.set_xticks(y_pos,xaxis);\n",
    "# ax.set_title(\"Retorno Medio em Janelas Rolantes 12M\", fontsize=12)\n",
    "# ax.set_ylabel(\"Retorno (%)\",fontsize=10);\n",
    "# fig.savefig(pasta+\"retorno_medio_benchmarks\")\n"
   ]
  },
  {
   "attachments": {},
   "cell_type": "markdown",
   "metadata": {},
   "source": [
    "### Acompanhamento Janelas Rolantes"
   ]
  },
  {
   "cell_type": "code",
   "execution_count": null,
   "metadata": {},
   "outputs": [],
   "source": [
    "# colunas = list(merge_12M_window.columns[[1,2,4]])"
   ]
  },
  {
   "cell_type": "code",
   "execution_count": null,
   "metadata": {},
   "outputs": [],
   "source": [
    "# fig1=grafico_janelas_rolantes(merge_12M_window\n",
    "#                                    ,\"data\"\n",
    "#                                    ,colunas\n",
    "#                                    ,\"IMAB x IHFA x CDI\"\n",
    "#                                    ,\"12M\")\n",
    "\n",
    "# fig1.savefig(pasta+\"benchmark_12M.png\")"
   ]
  },
  {
   "cell_type": "code",
   "execution_count": null,
   "metadata": {},
   "outputs": [],
   "source": [
    "# fig1 = grafico_janelas_rolantes(dataset_janelas_rolantes_12M\n",
    "#                                 ,'Data de Referência'\n",
    "#                                 ,'Variação 12 Meses (%)'\n",
    "#                                 ,\"IMAB\"\n",
    "#                                 ,\"12M\")\n",
    "\n",
    "# fig1.savefig(pasta+\"IMAB_12M.png\")\n"
   ]
  },
  {
   "attachments": {},
   "cell_type": "markdown",
   "metadata": {},
   "source": [
    "### VOLATILITY ANALISYS"
   ]
  },
  {
   "attachments": {},
   "cell_type": "markdown",
   "metadata": {},
   "source": [
    "#### Rolling Vol Anual"
   ]
  },
  {
   "cell_type": "code",
   "execution_count": null,
   "metadata": {},
   "outputs": [],
   "source": [
    "# rolling_vol = (dataset_returns1[\"Variação Diária (%)\"].rolling(window=252).std())*np.sqrt(252) #Vol Anual Rolante IMAB\n",
    "# rolling_vol2 = (dataset_returns2[\"Variação Diária (%)\"].rolling(window=252).std())*np.sqrt(252) #Vol Anual Rolante IHFA\n",
    "# rolling_vol31 = (dataset_returns31[\"Variação Diária (%)\"].rolling(window=252).std())*np.sqrt(252) #Vol Anual Rolante Porfolio 1\n",
    "# rolling_vol34 = (dataset_returns34[\"Variação Diária (%)\"].rolling(window=252).std())*np.sqrt(252) #Vol Anual Rolante Porfolio 1\n",
    "# rolling_vol38 = (dataset_returns38[\"Variação Diária (%)\"].rolling(window=252).std())*np.sqrt(252) #Vol Anual Rolante Porfolio 1"
   ]
  },
  {
   "attachments": {},
   "cell_type": "markdown",
   "metadata": {},
   "source": [
    "#### Rolling Vol Trimestral"
   ]
  },
  {
   "cell_type": "code",
   "execution_count": null,
   "metadata": {},
   "outputs": [],
   "source": [
    "# tri_rolling_vol = (dataset_returns1[\"Variação Diária (%)\"].rolling(window=66).std())*np.sqrt(252) #Vol Anual Rolante IMAB\n",
    "# tri_rolling_vol2 = (dataset_returns2[\"Variação Diária (%)\"].rolling(window=66).std())*np.sqrt(252) #Vol Anual Rolante IHFA\n",
    "# tri_rolling_vol31 = (dataset_returns31[\"Variação Diária (%)\"].rolling(window=66).std())*np.sqrt(252) #Vol Anual Rolante Porfolio 1\n",
    "# tri_rolling_vol34 = (dataset_returns34[\"Variação Diária (%)\"].rolling(window=66).std())*np.sqrt(252) #Vol Anual Rolante Porfolio 1\n",
    "# tri_rolling_vol38 = (dataset_returns38[\"Variação Diária (%)\"].rolling(window=66).std())*np.sqrt(252) #Vol Anual Rolante Porfolio 1"
   ]
  },
  {
   "attachments": {},
   "cell_type": "markdown",
   "metadata": {},
   "source": [
    "#### View Vollatility"
   ]
  },
  {
   "cell_type": "code",
   "execution_count": null,
   "metadata": {},
   "outputs": [],
   "source": [
    "# #Copia dataset janela rolante return 12M\n",
    "# merge_vol_return = dataset_janelas_rolantes_12M.copy()\n",
    "\n",
    "# #Inclui a volatilidade anual\n",
    "# merge_vol_return[\"Vol 12 Meses\"] = rolling_vol\n",
    "\n",
    "# #Inclui volatilidade 3M anualizada\n",
    "# merge_vol_return[\"Vol 3 Meses\"] = rolling_vol_tri\n",
    "# merge_vol_return.dropna(inplace=True)"
   ]
  },
  {
   "cell_type": "code",
   "execution_count": null,
   "metadata": {},
   "outputs": [],
   "source": [
    "# vol_media = rolling_vol.describe().round(2)\n",
    "# fig3,ax = plt.subplots()\n",
    "# vol_media.iloc[[4,5,6,1]].plot(\n",
    "#   kind=\"bar\",\n",
    "#   xlabel=\"Quartis\",\n",
    "#   ylabel=\"Volatilidade (%)\",\n",
    "#   title=\"Quartis de Volatilidade 12M IMAB\",\n",
    "#   ax=ax\n",
    "# );\n",
    "# fig3.savefig(pasta+\"quartis_vol_IMAB.png\")\n"
   ]
  },
  {
   "cell_type": "code",
   "execution_count": null,
   "metadata": {},
   "outputs": [],
   "source": [
    "# vol_media = rolling_vol2.describe().round(2)\n",
    "# fig3,ax = plt.subplots()\n",
    "# vol_media.iloc[[4,5,6,1]].plot(\n",
    "#   kind=\"bar\",\n",
    "#   xlabel=\"Quartis\",\n",
    "#   ylabel=\"Volatilidade (%)\",\n",
    "#   title=\"Quartis de Volatilidade 12M IHFA\",\n",
    "#   ax=ax\n",
    "# );\n",
    "# fig3.savefig(pasta+\"quartis_vol_IHFA.png\")\n"
   ]
  },
  {
   "cell_type": "code",
   "execution_count": null,
   "metadata": {},
   "outputs": [],
   "source": [
    "# vol_media = rolling_vol31.describe().round(2)\n",
    "# fig3,ax = plt.subplots()\n",
    "# vol_media.iloc[[4,5,6,1]].plot(\n",
    "#   kind=\"bar\",\n",
    "#   xlabel=\"Quartis\",\n",
    "#   ylabel=\"Volatilidade (%)\",\n",
    "#   title=\"Quartis de Volatilidade 12M Portfolio_1\",\n",
    "#   ax=ax\n",
    "# );\n",
    "# fig3.savefig(pasta+\"quartis_vol_Portfolio_1.png\")\n"
   ]
  },
  {
   "cell_type": "code",
   "execution_count": null,
   "metadata": {},
   "outputs": [],
   "source": [
    "# vol_media = rolling_vol34.describe().round(2)\n",
    "# fig3,ax = plt.subplots()\n",
    "# vol_media.iloc[[4,5,6,1]].plot(\n",
    "#   kind=\"bar\",\n",
    "#   xlabel=\"Quartis\",\n",
    "#   ylabel=\"Volatilidade (%)\",\n",
    "#   title=\"Quartis de Volatilidade 12M Portfolio_4\",\n",
    "#   ax=ax\n",
    "# );\n",
    "# fig3.savefig(pasta+\"quartis_vol_Portfolio_4.png\")\n"
   ]
  },
  {
   "cell_type": "code",
   "execution_count": null,
   "metadata": {},
   "outputs": [],
   "source": [
    "# vol_media = rolling_vol38.describe().round(2)\n",
    "# fig3,ax = plt.subplots()\n",
    "# vol_media.iloc[[4,5,6,1]].plot(\n",
    "#   kind=\"bar\",\n",
    "#   xlabel=\"Quartis\",\n",
    "#   ylabel=\"Volatilidade (%)\",\n",
    "#   title=\"Quartis de Volatilidade 12M Portfolio_8\",\n",
    "#   ax=ax\n",
    "# );\n",
    "# fig3.savefig(pasta+\"quartis_vol_Portfolio_8.png\")\n"
   ]
  },
  {
   "cell_type": "code",
   "execution_count": null,
   "metadata": {},
   "outputs": [],
   "source": [
    "# dataset_returns1[\"Data de Referência\"]"
   ]
  },
  {
   "cell_type": "code",
   "execution_count": null,
   "metadata": {},
   "outputs": [],
   "source": [
    "# fig,ax = plt.subplots()\n",
    "# ativo = \"IMAB\"\n",
    "# frequencia = \"3M\"\n",
    "# ax.plot(dataset_returns1[\"Data de Referência\"],tri_rolling_vol)\n",
    "# texto = f\"Volatilidade {ativo} janelas Rolantes de {frequencia}\"\n",
    "# ax.set(title=texto,xlabel=\"Periodo\",ylabel=\"Volatilidade (%)\")\n",
    "\n",
    "# ax.axhline(y=tri_rolling_vol.mean(),color=\"black\",linestyle=\"--\")\n",
    "# #ax.text(2004-10-01,20,f'Volatilidade Media: {round(tri_rolling_vol.mean(),2)}')\n"
   ]
  },
  {
   "cell_type": "code",
   "execution_count": null,
   "metadata": {},
   "outputs": [],
   "source": [
    "# fig,ax = plt.subplots()\n",
    "# ativo = \"IHFA\"\n",
    "# frequencia = \"3M\"\n",
    "# ax.plot(dataset_returns2[\"Data de Referência\"],tri_rolling_vol2)\n",
    "# texto = f\"Volatilidade {ativo} janelas Rolantes de {frequencia}\"\n",
    "# ax.set(title=texto,xlabel=\"Periodo\",ylabel=\"Volatilidade (%)\")\n",
    "\n",
    "# ax.axhline(y=tri_rolling_vol2.mean(),color=\"black\",linestyle=\"--\")\n",
    "# #ax.text(2004-10-01,20,f'Volatilidade Media: {round(tri_rolling_vol.mean(),2)}')\n"
   ]
  },
  {
   "cell_type": "code",
   "execution_count": null,
   "metadata": {},
   "outputs": [],
   "source": [
    "# dataset_returns31"
   ]
  },
  {
   "cell_type": "code",
   "execution_count": null,
   "metadata": {},
   "outputs": [],
   "source": [
    "# fig,ax = plt.subplots()\n",
    "# ativo = \"Portfolio_1\"\n",
    "# frequencia = \"3M\"\n",
    "# ax.plot(dataset_returns31[\"data\"],tri_rolling_vol31)\n",
    "# texto = f\"Volatilidade {ativo} janelas Rolantes de {frequencia}\"\n",
    "# ax.set(title=texto,xlabel=\"Periodo\",ylabel=\"Volatilidade (%)\")\n",
    "\n",
    "# ax.axhline(y=tri_rolling_vol31.mean(),color=\"black\",linestyle=\"--\")\n",
    "# #ax.text(2004-10-01,20,f'Volatilidade Media: {round(tri_rolling_vol.mean(),2)}')\n"
   ]
  },
  {
   "cell_type": "code",
   "execution_count": null,
   "metadata": {},
   "outputs": [],
   "source": [
    "# fig,ax = plt.subplots()\n",
    "# ativo = \"Portfolio_4\"\n",
    "# frequencia = \"3M\"\n",
    "# ax.plot(dataset_returns31[\"data\"],tri_rolling_vol34)\n",
    "# texto = f\"Volatilidade {ativo} janelas Rolantes de {frequencia}\"\n",
    "# ax.set(title=texto,xlabel=\"Periodo\",ylabel=\"Volatilidade (%)\")\n",
    "\n",
    "# ax.axhline(y=tri_rolling_vol34.mean(),color=\"black\",linestyle=\"--\")\n",
    "# #ax.text(2004-10-01,20,f'Volatilidade Media: {round(tri_rolling_vol.mean(),2)}')\n"
   ]
  },
  {
   "cell_type": "code",
   "execution_count": null,
   "metadata": {},
   "outputs": [],
   "source": [
    "# fig,ax = plt.subplots()\n",
    "# ativo = \"Portfolio_8\"\n",
    "# frequencia = \"3M\"\n",
    "# ax.plot(dataset_returns31[\"data\"],tri_rolling_vol38)\n",
    "# texto = f\"Volatilidade {ativo} janelas Rolantes de {frequencia}\"\n",
    "# ax.set(title=texto,xlabel=\"Periodo\",ylabel=\"Volatilidade (%)\")\n",
    "\n",
    "# ax.axhline(y=tri_rolling_vol38.mean(),color=\"black\",linestyle=\"--\")\n",
    "# #ax.text(2004-10-01,20,f'Volatilidade Media: {round(tri_rolling_vol.mean(),2)}')\n"
   ]
  },
  {
   "cell_type": "code",
   "execution_count": null,
   "metadata": {},
   "outputs": [],
   "source": [
    "# fig2 = grafico_janelas_rolantes_vol(merge_vol_return\n",
    "#                                 ,\"Data de Referência\"\n",
    "#                                 ,\"Vol 3 Meses\"\n",
    "#                                 ,\"IMAB\"\n",
    "#                                 ,\"3M\")\n",
    "# fig2.savefig(pasta+\"IMAB_3M_vol.png\")"
   ]
  },
  {
   "attachments": {},
   "cell_type": "markdown",
   "metadata": {},
   "source": [
    "### Sharpe Ratio Analysis"
   ]
  },
  {
   "cell_type": "code",
   "execution_count": null,
   "metadata": {},
   "outputs": [],
   "source": [
    "# merge_vol = dataset_janelas_rolantes_12M.copy()\n",
    "# merge_vol = merge_vol.merge(df_cdi,on=\"data\",how=\"inner\",suffixes=[f\"_{ativo}\",\"_CDI\"])\n",
    "# merge_vol[\"Vol 12M\"] = rolling_vol\n",
    "\n",
    "# #Calculate the sharpe ratio \n",
    "# ativo = \"IMAB\"\n",
    "# sharpe_ratio = (merge_vol[f'Variação_12_Meses_(%)_{ativo}']-merge_vol[\"Variação_12_Meses_(%)_CDI\"])/merge_vol[\"Vol 12M\"]\n",
    "\n",
    "# df_sr = pd.DataFrame({\"Sharpe Ratio\":sharpe_ratio\n",
    "#                       ,\"data\":merge_vol[\"data\"]}).round(2)"
   ]
  },
  {
   "cell_type": "code",
   "execution_count": null,
   "metadata": {},
   "outputs": [],
   "source": [
    "# fig4,ax = plt.subplots()\n",
    "\n",
    "# df_sr.plot(\n",
    "#           kind=\"line\",\n",
    "#           x = \"data\",\n",
    "#           y = \"Sharpe Ratio\",\n",
    "#           xlabel = \"Periodo\",\n",
    "#           ylabel = \"Indice\",\n",
    "#           title=f'Analise Sharpe Ratio {ativo} em Janelas Rolantes de 12M',\n",
    "#           fontsize=10,\n",
    "#           ax=ax\n",
    "\n",
    "# )\n",
    "\n",
    "# ax.axhline(y=df_sr[\"Sharpe Ratio\"].mean(),color=\"black\",label=\"Average\",linestyle=\"--\");\n",
    "# ax.text('01-05-2010',4,f'Sharpe Medio: {round(df_sr[\"Sharpe Ratio\"].mean(),2)}');\n",
    "# ax.title.set_size(12)\n",
    "# fig4.savefig(pasta+f'sharpe_ratio_{ativo}.png')"
   ]
  },
  {
   "cell_type": "code",
   "execution_count": null,
   "metadata": {},
   "outputs": [],
   "source": [
    "# ativo = \"IHFA\"\n",
    "# merge_vol = dataset_janelas_rolantes_12M2.copy()\n",
    "# merge_vol = merge_vol.merge(df_cdi,on=\"data\",how=\"inner\",suffixes=[f\"_{ativo}\",\"_CDI\"])\n",
    "# merge_vol[\"Vol 12M\"] = rolling_vol2\n",
    "\n",
    "# #Calculate the sharpe ratio \n",
    "# sharpe_ratio = (merge_vol[f'Variação_12_Meses_(%)_{ativo}']-merge_vol[\"Variação_12_Meses_(%)_CDI\"])/merge_vol[\"Vol 12M\"]\n",
    "\n",
    "# df_sr = pd.DataFrame({\"Sharpe Ratio\":sharpe_ratio\n",
    "#                       ,\"data\":merge_vol[\"data\"]}).round(2)"
   ]
  },
  {
   "cell_type": "code",
   "execution_count": null,
   "metadata": {},
   "outputs": [],
   "source": [
    "# fig4,ax = plt.subplots()\n",
    "\n",
    "# df_sr.plot(\n",
    "#           kind=\"line\",\n",
    "#           x = \"data\",\n",
    "#           y = \"Sharpe Ratio\",\n",
    "#           xlabel = \"Periodo\",\n",
    "#           ylabel = \"Indice\",\n",
    "#           title=f'Analise Sharpe Ratio {ativo} em Janelas Rolantes de 12M',\n",
    "#           fontsize=10,\n",
    "#           ax=ax\n",
    "\n",
    "# )\n",
    "\n",
    "# ax.axhline(y=df_sr[\"Sharpe Ratio\"].mean(),color=\"black\",label=\"Average\",linestyle=\"--\");\n",
    "# ax.text('01-05-2019',5,f'Sharpe Medio: {round(df_sr[\"Sharpe Ratio\"].mean(),2)}');\n",
    "# ax.title.set_size(12)\n",
    "# fig4.savefig(pasta+f'sharpe_ratio_{ativo}.png')"
   ]
  },
  {
   "cell_type": "code",
   "execution_count": null,
   "metadata": {},
   "outputs": [],
   "source": [
    "# ativo = \"Portfolio_1\"\n",
    "# merge_vol = dataset_returns31.copy()\n",
    "# merge_vol = merge_vol.merge(df_cdi,on=\"data\",how=\"inner\",suffixes=[f\"_{ativo}\",\"_CDI\"])\n",
    "# merge_vol[\"Vol 12M\"] = rolling_vol31\n",
    "\n",
    "# #Calculate the sharpe ratio \n",
    "# sharpe_ratio = (merge_vol[f'Variação_12_Meses_(%)_{ativo}']-merge_vol[\"Variação_12_Meses_(%)_CDI\"])/merge_vol[\"Vol 12M\"]\n",
    "\n",
    "# df_sr = pd.DataFrame({\"Sharpe Ratio\":sharpe_ratio\n",
    "#                       ,\"data\":merge_vol[\"data\"]}).round(2)"
   ]
  },
  {
   "cell_type": "code",
   "execution_count": null,
   "metadata": {},
   "outputs": [],
   "source": [
    "# fig4,ax = plt.subplots()\n",
    "\n",
    "# df_sr.plot(\n",
    "#           kind=\"line\",\n",
    "#           x = \"data\",\n",
    "#           y = \"Sharpe Ratio\",\n",
    "#           xlabel = \"Periodo\",\n",
    "#           ylabel = \"Indice\",\n",
    "#           title=f'Analise Sharpe Ratio {ativo} em Janelas Rolantes de 12M',\n",
    "#           fontsize=10,\n",
    "#           ax=ax\n",
    "\n",
    "# )\n",
    "\n",
    "# ax.axhline(y=df_sr[\"Sharpe Ratio\"].mean(),color=\"black\",label=\"Average\",linestyle=\"--\");\n",
    "# ax.text('01-05-2020',6,f'Sharpe Medio: {round(df_sr[\"Sharpe Ratio\"].mean(),2)}');\n",
    "# ax.title.set_size(12)\n",
    "# fig4.savefig(pasta+f'sharpe_ratio_{ativo}.png')"
   ]
  },
  {
   "cell_type": "code",
   "execution_count": null,
   "metadata": {},
   "outputs": [],
   "source": [
    "# dataset_returns38.head()"
   ]
  },
  {
   "cell_type": "code",
   "execution_count": null,
   "metadata": {},
   "outputs": [],
   "source": [
    "# ativo = \"Portfolio_4\"\n",
    "# merge_vol = dataset_returns34.copy()\n",
    "# merge_vol = merge_vol.merge(df_cdi,on=\"data\",how=\"inner\",suffixes=[f\"_{ativo}\",\"_CDI\"])\n",
    "# merge_vol[\"Vol 12M\"] = rolling_vol\n",
    "\n",
    "# #Calculate the sharpe ratio \n",
    "# sharpe_ratio = (merge_vol[f'Variação_12_Meses_(%)_{ativo}']-merge_vol[\"Variação_12_Meses_(%)_CDI\"])/merge_vol[\"Vol 12M\"]\n",
    "\n",
    "# df_sr = pd.DataFrame({\"Sharpe Ratio\":sharpe_ratio\n",
    "#                       ,\"data\":merge_vol[\"data\"]}).round(2)"
   ]
  },
  {
   "cell_type": "code",
   "execution_count": null,
   "metadata": {},
   "outputs": [],
   "source": [
    "# fig4,ax = plt.subplots()\n",
    "\n",
    "# df_sr.plot(\n",
    "#           kind=\"line\",\n",
    "#           x = \"data\",\n",
    "#           y = \"Sharpe Ratio\",\n",
    "#           xlabel = \"Periodo\",\n",
    "#           ylabel = \"Indice\",\n",
    "#           title=f'Analise Sharpe Ratio {ativo} em Janelas Rolantes de 12M',\n",
    "#           fontsize=10,\n",
    "#           ax=ax\n",
    "\n",
    "# )\n",
    "\n",
    "# ax.axhline(y=df_sr[\"Sharpe Ratio\"].mean(),color=\"black\",label=\"Average\",linestyle=\"--\");\n",
    "# ax.text('01-05-2020',10,f'Sharpe Medio: {round(df_sr[\"Sharpe Ratio\"].mean(),2)}');\n",
    "# ax.title.set_size(12)\n",
    "# fig4.savefig(pasta+f'sharpe_ratio_{ativo}.png')"
   ]
  },
  {
   "cell_type": "code",
   "execution_count": null,
   "metadata": {},
   "outputs": [],
   "source": [
    "# dataset_returns38.head()"
   ]
  },
  {
   "cell_type": "code",
   "execution_count": null,
   "metadata": {},
   "outputs": [],
   "source": [
    "# ativo = \"Portfolio_8\"\n",
    "# merge_vol = dataset_returns38.copy()\n",
    "# merge_vol = merge_vol.merge(df_cdi,on=\"data\",how=\"inner\",suffixes=[f\"_{ativo}\",\"_CDI\"])\n",
    "# merge_vol[\"Vol 12M\"] = rolling_vol\n",
    "\n",
    "# #Calculate the sharpe ratio \n",
    "# sharpe_ratio = (merge_vol[f'Variação_12_Meses_(%))_{ativo}']-merge_vol[\"Variação_12_Meses_(%)_CDI\"])/merge_vol[\"Vol 12M\"]\n",
    "\n",
    "# df_sr = pd.DataFrame({\"Sharpe Ratio\":sharpe_ratio\n",
    "#                       ,\"data\":merge_vol[\"data\"]}).round(2)"
   ]
  },
  {
   "cell_type": "code",
   "execution_count": null,
   "metadata": {},
   "outputs": [],
   "source": [
    "# fig4,ax = plt.subplots()\n",
    "\n",
    "# df_sr.plot(\n",
    "#           kind=\"line\",\n",
    "#           x = \"data\",\n",
    "#           y = \"Sharpe Ratio\",\n",
    "#           xlabel = \"Periodo\",\n",
    "#           ylabel = \"Indice\",\n",
    "#           title=f'Analise Sharpe Ratio {ativo} em Janelas Rolantes de 12M',\n",
    "#           fontsize=10,\n",
    "#           ax=ax\n",
    "\n",
    "# )\n",
    "\n",
    "# ax.axhline(y=df_sr[\"Sharpe Ratio\"].mean(),color=\"black\",label=\"Average\",linestyle=\"--\");\n",
    "# ax.text('01-05-2020',10,f'Sharpe Medio: {round(df_sr[\"Sharpe Ratio\"].mean(),2)}');\n",
    "# ax.title.set_size(12)\n",
    "# fig4.savefig(pasta+f'sharpe_ratio_{ativo}.png')"
   ]
  },
  {
   "cell_type": "code",
   "execution_count": null,
   "metadata": {},
   "outputs": [],
   "source": [
    "# #Define new columns to merge_data_new_df\n",
    "# merge_vol_return.columns = [\"data\",'Variação 12 Meses (%)','Vol 12 Meses','Vol 3 Meses']\n",
    "\n",
    "# #merge data\n",
    "# merge_imab_di = merge_vol_return.merge(df_cdi,on=\"data\",how='inner',suffixes=[\"_IMAB\",\"_CDI\"])\n",
    "\n",
    "# #Drop specific column\n",
    "# merge_imab_di.drop(columns='valor',inplace=True)\n"
   ]
  },
  {
   "cell_type": "code",
   "execution_count": null,
   "metadata": {},
   "outputs": [],
   "source": [
    "# sharpe_ratio = (merge_imab_di[\"Variação 12 Meses (%)_IMAB\"]-merge_imab_di[\"Variação 12 Meses (%)_CDI\"])/merge_imab_di[\"Vol 12 Meses\"]\n",
    "\n",
    "# df_sr = pd.DataFrame({\"Sharpe Ratio\":sharpe_ratio\n",
    "#                       ,\"data\":merge_imab_di[\"data\"]}).round(2)\n"
   ]
  },
  {
   "cell_type": "code",
   "execution_count": null,
   "metadata": {},
   "outputs": [],
   "source": [
    "# fig4,ax = plt.subplots()\n",
    "\n",
    "# df_sr.plot(\n",
    "#           kind=\"line\",\n",
    "#           x = \"data\",\n",
    "#           y = \"Sharpe Ratio\",\n",
    "#           xlabel = \"Periodo\",\n",
    "#           ylabel = \"Indice\",\n",
    "#           title=\"Analise Sharpe Ratio IMAB em Janelas Rolantes de 12M\",\n",
    "#           fontsize=10,\n",
    "#           ax=ax\n",
    "\n",
    "# )\n",
    "\n",
    "# ax.axhline(y=df_sr[\"Sharpe Ratio\"].mean(),color=\"black\",label=\"Average\",linestyle=\"--\");\n",
    "# ax.text('01-05-2010',4,f'Sharpe Medio: {round(df_sr[\"Sharpe Ratio\"].mean(),2)}');\n",
    "# ax.title.set_size(12)\n",
    "# fig4.savefig(pasta+\"sharpe_ratio_IMAB.png\")\n"
   ]
  },
  {
   "cell_type": "code",
   "execution_count": null,
   "metadata": {},
   "outputs": [],
   "source": []
  }
 ],
 "metadata": {
  "kernelspec": {
   "display_name": "env",
   "language": "python",
   "name": "python3"
  },
  "language_info": {
   "codemirror_mode": {
    "name": "ipython",
    "version": 3
   },
   "file_extension": ".py",
   "mimetype": "text/x-python",
   "name": "python",
   "nbconvert_exporter": "python",
   "pygments_lexer": "ipython3",
   "version": "3.10.9"
  },
  "orig_nbformat": 4
 },
 "nbformat": 4,
 "nbformat_minor": 2
}
