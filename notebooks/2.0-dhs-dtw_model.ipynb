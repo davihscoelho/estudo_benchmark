{
 "cells": [
  {
   "cell_type": "code",
   "execution_count": 4,
   "metadata": {},
   "outputs": [],
   "source": [
    "import sys\n",
    "sys.path.append('../')"
   ]
  },
  {
   "cell_type": "code",
   "execution_count": 5,
   "metadata": {},
   "outputs": [],
   "source": [
    "import pandas as pd\n",
    "import numpy as np\n",
    "import matplotlib.pyplot as plt\n",
    "from functools import reduce\n",
    "#computation packagess\n",
    "from scipy.spatial.distance import euclidean\n",
    "from fastdtw import fastdtw"
   ]
  },
  {
   "cell_type": "code",
   "execution_count": 6,
   "metadata": {},
   "outputs": [],
   "source": [
    "path = \"../data/final/05_returns_merge_rw_12M.csv\""
   ]
  },
  {
   "cell_type": "code",
   "execution_count": 7,
   "metadata": {},
   "outputs": [],
   "source": [
    "path2 = \"../data/final/06_vol_merge_rm_12M.csv\""
   ]
  },
  {
   "cell_type": "code",
   "execution_count": 8,
   "metadata": {},
   "outputs": [],
   "source": [
    "df = pd.read_csv(path)\n",
    "df2 = pd.read_csv(path2)"
   ]
  },
  {
   "cell_type": "code",
   "execution_count": 209,
   "metadata": {},
   "outputs": [],
   "source": [
    "def distance_using_fastdtw_returns(df):\n",
    "  \n",
    "  series_y = df[\"Variação_12_Meses_(%)_port1\"].values\n",
    "  series_z = df[\"Variação_12_Meses_(%)_port4\"].values\n",
    "  series_a = df[\"Variação_12_Meses_(%)_port8\"].values\n",
    "  \n",
    "  portfolios = [\"Port1\",\"Port4\",\"Port8\"]\n",
    "  lista_benchmark = [\"CDI\",\"IMAB5\",\"IMAB\",\"IHFA\",\"IBOV\"]\n",
    "  series_portfolios = [series_y,series_z,series_a]\n",
    "\n",
    "  for benchmark in lista_benchmark:\n",
    "    series_x = np.array(df[f'Variação_12_Meses_(%)_{benchmark}'])\n",
    "    i = 0\n",
    "    for series in series_portfolios:  \n",
    "      print(f'Distancia {benchmark} x {portfolios[i]}: {round(fastdtw(series_x,series)[0],4)}')\n",
    "      i = i+1"
   ]
  },
  {
   "cell_type": "code",
   "execution_count": 210,
   "metadata": {},
   "outputs": [],
   "source": [
    "def distance_dtw_algorithm(df):\n",
    "  series_y = df[\"Variação_12_Meses_(%)_port1\"].values\n",
    "  series_z = df[\"Variação_12_Meses_(%)_port4\"].values\n",
    "  series_a = df[\"Variação_12_Meses_(%)_port8\"].values\n",
    "\n",
    "  portfolios = [\"Port1\",\"Port4\",\"Port8\"]\n",
    "  lista_benchmark = [\"CDI\",\"IMAB5\",\"IMAB\",\"IHFA\",\"IBOV\"]\n",
    "  series_portfolios = [series_y,series_z,series_a]\n",
    "\n",
    "  for benchmark in lista_benchmark:\n",
    "    series_x = np.array(df[f'Variação_12_Meses_(%)_{benchmark}'])\n",
    "    i = 0\n",
    "    for series in series_portfolios:  \n",
    "      print(f'Distancia {benchmark} x {portfolios[i]}: {round(dtw_distance(series_x,series),4)}')\n",
    "      i = i+1\n",
    "    \n",
    "    "
   ]
  }
 ],
 "metadata": {
  "kernelspec": {
   "display_name": "env",
   "language": "python",
   "name": "python3"
  },
  "language_info": {
   "codemirror_mode": {
    "name": "ipython",
    "version": 3
   },
   "file_extension": ".py",
   "mimetype": "text/x-python",
   "name": "python",
   "nbconvert_exporter": "python",
   "pygments_lexer": "ipython3",
   "version": "3.10.9"
  },
  "orig_nbformat": 4
 },
 "nbformat": 4,
 "nbformat_minor": 2
}
